{
  "nbformat": 4,
  "nbformat_minor": 0,
  "metadata": {
    "colab": {
      "provenance": [],
      "authorship_tag": "ABX9TyNCStY0bbVs6FrvM8too+Xj",
      "include_colab_link": true
    },
    "kernelspec": {
      "name": "python3",
      "display_name": "Python 3"
    },
    "language_info": {
      "name": "python"
    }
  },
  "cells": [
    {
      "cell_type": "markdown",
      "metadata": {
        "id": "view-in-github",
        "colab_type": "text"
      },
      "source": [
        "<a href=\"https://colab.research.google.com/github/Diego15s/Diego15s-DIO-Baires-07-AssistenciaVirtual/blob/main/Assistente_Voz.ipynb\" target=\"_parent\"><img src=\"https://colab.research.google.com/assets/colab-badge.svg\" alt=\"Open In Colab\"/></a>"
      ]
    },
    {
      "cell_type": "markdown",
      "source": [
        "#Text to Speech\n"
      ],
      "metadata": {
        "id": "lSAznMrV5RpN"
      }
    },
    {
      "cell_type": "code",
      "execution_count": 1,
      "metadata": {
        "colab": {
          "base_uri": "https://localhost:8080/"
        },
        "id": "Cgr5uLBt4irI",
        "outputId": "6972428e-8695-427f-f8ef-23b840b69d24"
      },
      "outputs": [
        {
          "output_type": "stream",
          "name": "stdout",
          "text": [
            "Collecting gTTS\n",
            "  Downloading gTTS-2.5.4-py3-none-any.whl.metadata (4.1 kB)\n",
            "Requirement already satisfied: requests<3,>=2.27 in /usr/local/lib/python3.11/dist-packages (from gTTS) (2.32.3)\n",
            "Requirement already satisfied: click<8.2,>=7.1 in /usr/local/lib/python3.11/dist-packages (from gTTS) (8.1.8)\n",
            "Requirement already satisfied: charset-normalizer<4,>=2 in /usr/local/lib/python3.11/dist-packages (from requests<3,>=2.27->gTTS) (3.4.1)\n",
            "Requirement already satisfied: idna<4,>=2.5 in /usr/local/lib/python3.11/dist-packages (from requests<3,>=2.27->gTTS) (3.10)\n",
            "Requirement already satisfied: urllib3<3,>=1.21.1 in /usr/local/lib/python3.11/dist-packages (from requests<3,>=2.27->gTTS) (2.3.0)\n",
            "Requirement already satisfied: certifi>=2017.4.17 in /usr/local/lib/python3.11/dist-packages (from requests<3,>=2.27->gTTS) (2025.1.31)\n",
            "Downloading gTTS-2.5.4-py3-none-any.whl (29 kB)\n",
            "Installing collected packages: gTTS\n",
            "Successfully installed gTTS-2.5.4\n",
            "Collecting SpeechRecognition\n",
            "  Downloading SpeechRecognition-3.14.1-py3-none-any.whl.metadata (31 kB)\n",
            "Requirement already satisfied: typing-extensions in /usr/local/lib/python3.11/dist-packages (from SpeechRecognition) (4.12.2)\n",
            "Downloading SpeechRecognition-3.14.1-py3-none-any.whl (32.9 MB)\n",
            "\u001b[2K   \u001b[90m━━━━━━━━━━━━━━━━━━━━━━━━━━━━━━━━━━━━━━━━\u001b[0m \u001b[32m32.9/32.9 MB\u001b[0m \u001b[31m19.1 MB/s\u001b[0m eta \u001b[36m0:00:00\u001b[0m\n",
            "\u001b[?25hInstalling collected packages: SpeechRecognition\n",
            "Successfully installed SpeechRecognition-3.14.1\n",
            "Collecting playsound\n",
            "  Downloading playsound-1.3.0.tar.gz (7.7 kB)\n",
            "  Preparing metadata (setup.py) ... \u001b[?25l\u001b[?25hdone\n",
            "Building wheels for collected packages: playsound\n",
            "  Building wheel for playsound (setup.py) ... \u001b[?25l\u001b[?25hdone\n",
            "  Created wheel for playsound: filename=playsound-1.3.0-py3-none-any.whl size=7020 sha256=e83f2428c9eb198db0dd4eef313adb6b3ea3033fc324f3d525a9830bf5fc639d\n",
            "  Stored in directory: /root/.cache/pip/wheels/50/98/42/62753a9e1fb97579a0ce2f84f7db4c21c09d03bb2091e6cef4\n",
            "Successfully built playsound\n",
            "Installing collected packages: playsound\n",
            "Successfully installed playsound-1.3.0\n",
            "Collecting pyjokes\n",
            "  Downloading pyjokes-0.8.3-py3-none-any.whl.metadata (3.4 kB)\n",
            "Downloading pyjokes-0.8.3-py3-none-any.whl (47 kB)\n",
            "\u001b[2K   \u001b[90m━━━━━━━━━━━━━━━━━━━━━━━━━━━━━━━━━━━━━━━━\u001b[0m \u001b[32m47.6/47.6 kB\u001b[0m \u001b[31m1.5 MB/s\u001b[0m eta \u001b[36m0:00:00\u001b[0m\n",
            "\u001b[?25hInstalling collected packages: pyjokes\n",
            "Successfully installed pyjokes-0.8.3\n",
            "Collecting wikipedia\n",
            "  Downloading wikipedia-1.4.0.tar.gz (27 kB)\n",
            "  Preparing metadata (setup.py) ... \u001b[?25l\u001b[?25hdone\n",
            "Requirement already satisfied: beautifulsoup4 in /usr/local/lib/python3.11/dist-packages (from wikipedia) (4.13.3)\n",
            "Requirement already satisfied: requests<3.0.0,>=2.0.0 in /usr/local/lib/python3.11/dist-packages (from wikipedia) (2.32.3)\n",
            "Requirement already satisfied: charset-normalizer<4,>=2 in /usr/local/lib/python3.11/dist-packages (from requests<3.0.0,>=2.0.0->wikipedia) (3.4.1)\n",
            "Requirement already satisfied: idna<4,>=2.5 in /usr/local/lib/python3.11/dist-packages (from requests<3.0.0,>=2.0.0->wikipedia) (3.10)\n",
            "Requirement already satisfied: urllib3<3,>=1.21.1 in /usr/local/lib/python3.11/dist-packages (from requests<3.0.0,>=2.0.0->wikipedia) (2.3.0)\n",
            "Requirement already satisfied: certifi>=2017.4.17 in /usr/local/lib/python3.11/dist-packages (from requests<3.0.0,>=2.0.0->wikipedia) (2025.1.31)\n",
            "Requirement already satisfied: soupsieve>1.2 in /usr/local/lib/python3.11/dist-packages (from beautifulsoup4->wikipedia) (2.6)\n",
            "Requirement already satisfied: typing-extensions>=4.0.0 in /usr/local/lib/python3.11/dist-packages (from beautifulsoup4->wikipedia) (4.12.2)\n",
            "Building wheels for collected packages: wikipedia\n",
            "  Building wheel for wikipedia (setup.py) ... \u001b[?25l\u001b[?25hdone\n",
            "  Created wheel for wikipedia: filename=wikipedia-1.4.0-py3-none-any.whl size=11679 sha256=7ea73e39e50841a146abfc94dc0491c8fa5e57d716af1c107e902cfe1a3769fe\n",
            "  Stored in directory: /root/.cache/pip/wheels/8f/ab/cb/45ccc40522d3a1c41e1d2ad53b8f33a62f394011ec38cd71c6\n",
            "Successfully built wikipedia\n",
            "Installing collected packages: wikipedia\n",
            "Successfully installed wikipedia-1.4.0\n",
            "Reading package lists... Done\n",
            "Building dependency tree... Done\n",
            "Reading state information... Done\n",
            "The following additional packages will be installed:\n",
            "  libportaudio2 libportaudiocpp0\n",
            "Suggested packages:\n",
            "  portaudio19-doc\n",
            "The following NEW packages will be installed:\n",
            "  libportaudio2 libportaudiocpp0 portaudio19-dev\n",
            "0 upgraded, 3 newly installed, 0 to remove and 20 not upgraded.\n",
            "Need to get 188 kB of archives.\n",
            "After this operation, 927 kB of additional disk space will be used.\n",
            "Get:1 http://archive.ubuntu.com/ubuntu jammy/universe amd64 libportaudio2 amd64 19.6.0-1.1 [65.3 kB]\n",
            "Get:2 http://archive.ubuntu.com/ubuntu jammy/universe amd64 libportaudiocpp0 amd64 19.6.0-1.1 [16.1 kB]\n",
            "Get:3 http://archive.ubuntu.com/ubuntu jammy/universe amd64 portaudio19-dev amd64 19.6.0-1.1 [106 kB]\n",
            "Fetched 188 kB in 0s (533 kB/s)\n",
            "Selecting previously unselected package libportaudio2:amd64.\n",
            "(Reading database ... 124926 files and directories currently installed.)\n",
            "Preparing to unpack .../libportaudio2_19.6.0-1.1_amd64.deb ...\n",
            "Unpacking libportaudio2:amd64 (19.6.0-1.1) ...\n",
            "Selecting previously unselected package libportaudiocpp0:amd64.\n",
            "Preparing to unpack .../libportaudiocpp0_19.6.0-1.1_amd64.deb ...\n",
            "Unpacking libportaudiocpp0:amd64 (19.6.0-1.1) ...\n",
            "Selecting previously unselected package portaudio19-dev:amd64.\n",
            "Preparing to unpack .../portaudio19-dev_19.6.0-1.1_amd64.deb ...\n",
            "Unpacking portaudio19-dev:amd64 (19.6.0-1.1) ...\n",
            "Setting up libportaudio2:amd64 (19.6.0-1.1) ...\n",
            "Setting up libportaudiocpp0:amd64 (19.6.0-1.1) ...\n",
            "Setting up portaudio19-dev:amd64 (19.6.0-1.1) ...\n",
            "Processing triggers for libc-bin (2.35-0ubuntu3.8) ...\n",
            "/sbin/ldconfig.real: /usr/local/lib/libtbbbind_2_0.so.3 is not a symbolic link\n",
            "\n",
            "/sbin/ldconfig.real: /usr/local/lib/libtcm_debug.so.1 is not a symbolic link\n",
            "\n",
            "/sbin/ldconfig.real: /usr/local/lib/libur_adapter_opencl.so.0 is not a symbolic link\n",
            "\n",
            "/sbin/ldconfig.real: /usr/local/lib/libtbbmalloc.so.2 is not a symbolic link\n",
            "\n",
            "/sbin/ldconfig.real: /usr/local/lib/libumf.so.0 is not a symbolic link\n",
            "\n",
            "/sbin/ldconfig.real: /usr/local/lib/libtcm.so.1 is not a symbolic link\n",
            "\n",
            "/sbin/ldconfig.real: /usr/local/lib/libtbbmalloc_proxy.so.2 is not a symbolic link\n",
            "\n",
            "/sbin/ldconfig.real: /usr/local/lib/libhwloc.so.15 is not a symbolic link\n",
            "\n",
            "/sbin/ldconfig.real: /usr/local/lib/libtbb.so.12 is not a symbolic link\n",
            "\n",
            "/sbin/ldconfig.real: /usr/local/lib/libur_adapter_level_zero.so.0 is not a symbolic link\n",
            "\n",
            "/sbin/ldconfig.real: /usr/local/lib/libtbbbind_2_5.so.3 is not a symbolic link\n",
            "\n",
            "/sbin/ldconfig.real: /usr/local/lib/libur_loader.so.0 is not a symbolic link\n",
            "\n",
            "/sbin/ldconfig.real: /usr/local/lib/libtbbbind.so.3 is not a symbolic link\n",
            "\n",
            "Collecting sounddevice\n",
            "  Downloading sounddevice-0.5.1-py3-none-any.whl.metadata (1.4 kB)\n",
            "Requirement already satisfied: CFFI>=1.0 in /usr/local/lib/python3.11/dist-packages (from sounddevice) (1.17.1)\n",
            "Requirement already satisfied: pycparser in /usr/local/lib/python3.11/dist-packages (from CFFI>=1.0->sounddevice) (2.22)\n",
            "Downloading sounddevice-0.5.1-py3-none-any.whl (32 kB)\n",
            "Installing collected packages: sounddevice\n",
            "Successfully installed sounddevice-0.5.1\n",
            "Collecting PyAudio\n",
            "  Downloading PyAudio-0.2.14.tar.gz (47 kB)\n",
            "\u001b[2K     \u001b[90m━━━━━━━━━━━━━━━━━━━━━━━━━━━━━━━━━━━━━━━━\u001b[0m \u001b[32m47.1/47.1 kB\u001b[0m \u001b[31m2.0 MB/s\u001b[0m eta \u001b[36m0:00:00\u001b[0m\n",
            "\u001b[?25h  Installing build dependencies ... \u001b[?25l\u001b[?25hdone\n",
            "  Getting requirements to build wheel ... \u001b[?25l\u001b[?25hdone\n",
            "  Preparing metadata (pyproject.toml) ... \u001b[?25l\u001b[?25hdone\n",
            "Building wheels for collected packages: PyAudio\n",
            "  Building wheel for PyAudio (pyproject.toml) ... \u001b[?25l\u001b[?25hdone\n",
            "  Created wheel for PyAudio: filename=PyAudio-0.2.14-cp311-cp311-linux_x86_64.whl size=67396 sha256=3285425100ab771e1a91a2117d800744b3800704434ee9fc0eb664d0d83e1479\n",
            "  Stored in directory: /root/.cache/pip/wheels/80/b1/c1/67e4ef443de2665d86031d4760508094eab5de37d5d64d9c27\n",
            "Successfully built PyAudio\n",
            "Installing collected packages: PyAudio\n",
            "Successfully installed PyAudio-0.2.14\n",
            "Requirement already satisfied: pygobject in /usr/lib/python3/dist-packages (3.42.1)\n",
            "Collecting pycairo>=1.16.0 (from pygobject)\n",
            "  Downloading pycairo-1.27.0.tar.gz (661 kB)\n",
            "\u001b[2K     \u001b[90m━━━━━━━━━━━━━━━━━━━━━━━━━━━━━━━━━━━━━━━━\u001b[0m \u001b[32m661.5/661.5 kB\u001b[0m \u001b[31m9.5 MB/s\u001b[0m eta \u001b[36m0:00:00\u001b[0m\n",
            "\u001b[?25h  Installing build dependencies ... \u001b[?25l\u001b[?25hdone\n",
            "  Getting requirements to build wheel ... \u001b[?25l\u001b[?25hdone\n",
            "  Installing backend dependencies ... \u001b[?25l\u001b[?25hdone\n",
            "  \u001b[1;31merror\u001b[0m: \u001b[1msubprocess-exited-with-error\u001b[0m\n",
            "  \n",
            "  \u001b[31m×\u001b[0m \u001b[32mPreparing metadata \u001b[0m\u001b[1;32m(\u001b[0m\u001b[32mpyproject.toml\u001b[0m\u001b[1;32m)\u001b[0m did not run successfully.\n",
            "  \u001b[31m│\u001b[0m exit code: \u001b[1;36m1\u001b[0m\n",
            "  \u001b[31m╰─>\u001b[0m See above for output.\n",
            "  \n",
            "  \u001b[1;35mnote\u001b[0m: This error originates from a subprocess, and is likely not a problem with pip.\n",
            "  Preparing metadata (pyproject.toml) ... \u001b[?25l\u001b[?25herror\n",
            "\u001b[1;31merror\u001b[0m: \u001b[1mmetadata-generation-failed\u001b[0m\n",
            "\n",
            "\u001b[31m×\u001b[0m Encountered error while generating package metadata.\n",
            "\u001b[31m╰─>\u001b[0m See above for output.\n",
            "\n",
            "\u001b[1;35mnote\u001b[0m: This is an issue with the package mentioned above, not pip.\n",
            "\u001b[1;36mhint\u001b[0m: See above for details.\n"
          ]
        }
      ],
      "source": [
        "!pip install gTTS\n",
        "!pip install SpeechRecognition\n",
        "!pip install playsound\n",
        "!pip install pyjokes\n",
        "!pip install wikipedia\n",
        "!apt-get install -y portaudio19-dev\n",
        "!pip install sounddevice\n",
        "!pip install PyAudio\n",
        "!pip install pygobject"
      ]
    },
    {
      "cell_type": "code",
      "source": [
        "from google.colab import drive\n",
        "drive.mount('/content/drive')"
      ],
      "metadata": {
        "colab": {
          "base_uri": "https://localhost:8080/"
        },
        "id": "jLnYZSGcHHg_",
        "outputId": "c5c803b1-bdba-4bff-f7e2-421b02e3d092"
      },
      "execution_count": 2,
      "outputs": [
        {
          "output_type": "stream",
          "name": "stdout",
          "text": [
            "Mounted at /content/drive\n"
          ]
        }
      ]
    },
    {
      "cell_type": "code",
      "source": [
        "from gtts import gTTS\n",
        "from IPython.display import Audio"
      ],
      "metadata": {
        "id": "GTlqM28s5b_t"
      },
      "execution_count": 3,
      "outputs": []
    },
    {
      "cell_type": "markdown",
      "source": [
        "#Speech to Text\n",
        "Como não consegui suporte para microfone no Coolab, utilizei arquivos de audio para simular o comando"
      ],
      "metadata": {
        "id": "aYd0UOol6Toh"
      }
    },
    {
      "cell_type": "markdown",
      "source": [
        "Arquivos:\n",
        "\n",
        "*   Wiki.wav - Abrir Wikipédia\n",
        "*   Youtube.wav - Abrir YouTube\n",
        "*   Txt.wav - Abrir bloco de notas"
      ],
      "metadata": {
        "id": "8pXToKfXUYgg"
      }
    },
    {
      "cell_type": "code",
      "source": [
        "audio_path = \"/content/drive/MyDrive/Colab_Notebooks/DIO/Assistente_de_Voz/Audios/Wiki.wav\"\n",
        "\n",
        "import speech_recognition as sr\n",
        "\n",
        "# Inicializar o reconhecedor\n",
        "recognizer = sr.Recognizer()\n",
        "\n",
        "# Abrir o arquivo de áudio\n",
        "with sr.AudioFile(audio_path) as source:\n",
        "    audio = recognizer.record(source)  # Ler o áudio inteiro\n",
        "    text = recognizer.recognize_google(audio, language=\"pt-BR\")  # Define o idioma para português\n",
        "\n",
        "print(\"Texto reconhecido:\", text)"
      ],
      "metadata": {
        "id": "yFGgvQxAEhsc",
        "colab": {
          "base_uri": "https://localhost:8080/"
        },
        "outputId": "e1b2022e-bfc4-40c0-a635-311697bfb66e"
      },
      "execution_count": 4,
      "outputs": [
        {
          "output_type": "stream",
          "name": "stdout",
          "text": [
            "Texto reconhecido: Abrir Wikipédia\n"
          ]
        }
      ]
    },
    {
      "cell_type": "code",
      "source": [
        "#import section\n",
        "import speech_recognition as sr\n",
        "from gtts import gTTS\n",
        "import os\n",
        "from datetime import datetime\n",
        "#from IPython.display import Javascript\n",
        "from IPython.display import Javascript, display # Import display function\n",
        "import playsound\n",
        "import pyjokes\n",
        "import wikipedia\n",
        "import pyaudio\n",
        "import webbrowser\n",
        "import os\n",
        "os.system(\"gio trash arquivo.txt\")  # Envia para a lixeira no Linux\n",
        "from pygame import mixer"
      ],
      "metadata": {
        "colab": {
          "base_uri": "https://localhost:8080/"
        },
        "id": "cLGqlHni6dcJ",
        "outputId": "1939346e-a36d-45f6-9647-32ea51892abb"
      },
      "execution_count": 5,
      "outputs": [
        {
          "output_type": "stream",
          "name": "stderr",
          "text": [
            "WARNING:playsound:playsound is relying on another python subprocess. Please use `pip install pygobject` if you want playsound to run more efficiently.\n"
          ]
        },
        {
          "output_type": "stream",
          "name": "stdout",
          "text": [
            "pygame 2.6.1 (SDL 2.28.4, Python 3.11.11)\n",
            "Hello from the pygame community. https://www.pygame.org/contribute.html\n"
          ]
        }
      ]
    },
    {
      "cell_type": "code",
      "source": [
        "def get_audio():\n",
        "    r = sr.Recognizer()\n",
        "    with sr.Microphone() as source:\n",
        "        r.pause_threshold = 1\n",
        "        # wait for a second to let the recognizer adjust the\n",
        "        # energy threshold based on the surrounding noise level\n",
        "        r.adjust_for_ambient_noise(source, duration=1)\n",
        "        audio = r.listen(source)\n",
        "        said = \"\"\n",
        "        try:\n",
        "            said = r.recognize_google(audio)\n",
        "            print(said)\n",
        "        except sr.UnknownValueError:\n",
        "            speak(\"Sorry, I did not get that.\")\n",
        "        except sr.RequestError:\n",
        "            speak(\"Sorry, the service is not available\")\n",
        "    return said.lower()"
      ],
      "metadata": {
        "id": "a-dof97vB8uN"
      },
      "execution_count": 6,
      "outputs": []
    },
    {
      "cell_type": "markdown",
      "source": [
        "O comando padrão não estava abrindo outra aba, achei essa forma alternativa"
      ],
      "metadata": {
        "id": "c-fLv3R1TGok"
      }
    },
    {
      "cell_type": "code",
      "source": [
        "def open_url(url):\n",
        "    js_code = f'window.open(\"{url}\");'\n",
        "    display(Javascript(js_code))"
      ],
      "metadata": {
        "id": "Ah1tNy-9Ph3x"
      },
      "execution_count": 11,
      "outputs": []
    },
    {
      "cell_type": "code",
      "source": [
        "def respond(text):\n",
        "\n",
        "    print(\"Comando detectado : \" + text)\n",
        "    if 'Abrir YouTube' in text:\n",
        "      text_to_say = \"Ok, irei abrir o Youtube!\"\n",
        "      open_url(\"https://youtube.com\")\n",
        "      language = \"pt\"\n",
        "      gtts_object = gTTS(text = text_to_say,\n",
        "                  lang = language,\n",
        "                  slow = False)\n",
        "      gtts_object.save(\"/content/gtts.wav\")\n",
        "\n",
        "\n",
        "    elif 'Abrir Wikipédia' in text:\n",
        "      text_to_say = \"Ok, irei abrir o Wikipédia!\"\n",
        "      #URL da Wikipédia que deseja abrir\n",
        "      open_url(\"https://pt.wikipedia.org/wiki/Página_principal\")\n",
        "      language = \"pt\"\n",
        "      gtts_object = gTTS(text = text_to_say,\n",
        "                  lang = language,\n",
        "                  slow = False)\n",
        "      gtts_object.save(\"/content/gtts.wav\")\n",
        "\n",
        "    else:\n",
        "      text_to_say = \"Desculpe, não entendi o comando.\"\n",
        "      language = \"pt\"\n",
        "      gtts_object = gTTS(text = text_to_say,\n",
        "                  lang = language,\n",
        "                  slow = False)\n",
        "      gtts_object.save(\"/content/gtts.wav\")\n"
      ],
      "metadata": {
        "id": "gJuPGJ7KI1Cn"
      },
      "execution_count": 12,
      "outputs": []
    },
    {
      "cell_type": "code",
      "source": [
        "#let's try it\n",
        "#text = get_audio()\n",
        "#speak(text)\n",
        "print(\"I am listening...\") # Corrected indentation\n",
        "\n",
        "respond(text) # Corrected indentation\n",
        "Audio(\"/content/gtts.wav\")"
      ],
      "metadata": {
        "colab": {
          "base_uri": "https://localhost:8080/",
          "height": 110
        },
        "id": "Be35dmUMCMms",
        "outputId": "bebd5f74-8c7f-40fa-e739-990fa0831c45"
      },
      "execution_count": 13,
      "outputs": [
        {
          "output_type": "stream",
          "name": "stdout",
          "text": [
            "I am listening...\n",
            "Comando detectado : Abrir Wikipédia\n"
          ]
        },
        {
          "output_type": "display_data",
          "data": {
            "text/plain": [
              "<IPython.core.display.Javascript object>"
            ],
            "application/javascript": [
              "window.open(\"https://pt.wikipedia.org/wiki/Página_principal\");"
            ]
          },
          "metadata": {}
        },
        {
          "output_type": "execute_result",
          "data": {
            "text/plain": [
              "<IPython.lib.display.Audio object>"
            ],
            "text/html": [
              "\n",
              "                <audio  controls=\"controls\" >\n",
              "                    <source src=\"data:audio/x-wav;base64,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\" type=\"audio/x-wav\" />\n",
              "                    Your browser does not support the audio element.\n",
              "                </audio>\n",
              "              "
            ]
          },
          "metadata": {},
          "execution_count": 13
        }
      ]
    }
  ]
}